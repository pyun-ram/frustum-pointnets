{
 "cells": [
  {
   "cell_type": "code",
   "execution_count": 25,
   "metadata": {
    "collapsed": true
   },
   "outputs": [],
   "source": [
    "import sys\n",
    "sys.path.append('/usr/app/frustum-pointnets/train/')\n",
    "import provider\n",
    "import numpy as np\n",
    "\n",
    "pc_camera = np.asarray([\n",
    "    [1,0,3],\n",
    "    [2,0,3],\n",
    "    [3,0,3],\n",
    "    [2,0,2],\n",
    "    [3,0,2],\n",
    "    [3,0,1],\n",
    "])\n",
    "h,w,l,tx,ty,tz,ry = [2,1,2,\n",
    "                     2,-1,2,\n",
    "                     0]\n",
    "gt_box3d = np.array([h,w,l,tx,ty,tz,ry])"
   ]
  },
  {
   "cell_type": "code",
   "execution_count": 30,
   "metadata": {
    "collapsed": true
   },
   "outputs": [],
   "source": [
    "def compute_obj_coordinate(pc_, box3d, norm=False):\n",
    "    '''\n",
    "    transform the pc from camera frame to the object frame specified by box3d\n",
    "    inputs:\n",
    "        pc: numpy.array [#of points, >=3]\n",
    "            coordinates of the points in the camera frame\n",
    "        box3d: numpy.array [7,] ([h,w,l,tx,ty,tz,ry])\n",
    "            3d bounding box\n",
    "    outputs:\n",
    "        numpy.array [#of points, 3]\n",
    "    '''\n",
    "    pc = np.copy(pc_[:,:3])\n",
    "    h,w,l,tx,ty,tz,ry = box3d\n",
    "    bottom_center = np.array([tx, ty, tz])\n",
    "    center = np.array([tx, ty+h/2.0, tz])\n",
    "    box_size = np.array([h,w,l])\n",
    "    pc_obj = provider.rotate_pc_along_y(pc - center, -ry)\n",
    "    if norm == True:\n",
    "        pc_obj = pc_obj / (box_size / 2.0) # normalize to [-1 , 1]\n",
    "        pc_obj = (pc_obj + 1 ) / 2.0 # normalize to [0 , 1]\n",
    "    return pc_obj\n",
    "        \n",
    "\n",
    "def recover_bottom_center(pc_camera, pc_obj_, box_size, ry):\n",
    "    '''\n",
    "    recover the center point coordinate with the equation:\n",
    "        p_o^c = p_i^c - R_o^c * p_i^o\n",
    "    inputs:\n",
    "        pc_camera: numpy.array [#of points, >=3]\n",
    "            coordinates of the points in the camera frame\n",
    "        pc_obj: numpy.array [#of points, >=3]\n",
    "            coordinates of the points in the object frame\n",
    "        box_size: numpy.array [3,] ([h,wl])\n",
    "        ry: float (rad)\n",
    "    outputs:\n",
    "        numpy.array [#of points, 3]\n",
    "    '''\n",
    "    pc_obj = np.copy(pc_obj_)\n",
    "    pc_obj = pc_obj * 2.0 - 1\n",
    "    pc_obj = pc_obj * (box_size / 2.0)\n",
    "    h,_,_ = box_size\n",
    "    tmp = provider.rotate_pc_along_y(np.copy(pc_obj), ry)\n",
    "    return pc_camera - tmp - np.array([0,h/2.0,0])\n"
   ]
  },
  {
   "cell_type": "code",
   "execution_count": 31,
   "metadata": {},
   "outputs": [],
   "source": [
    "pc_object = compute_obj_coordinate(pc_camera, gt_box3d, norm=True)"
   ]
  },
  {
   "cell_type": "code",
   "execution_count": 32,
   "metadata": {},
   "outputs": [],
   "source": [
    "gt_center = recover_bottom_center(pc_camera, pc_object, np.array([h,w,l]), ry)"
   ]
  },
  {
   "cell_type": "code",
   "execution_count": 33,
   "metadata": {},
   "outputs": [
    {
     "data": {
      "text/plain": [
       "array([[ 2., -1.,  2.],\n",
       "       [ 2., -1.,  2.],\n",
       "       [ 2., -1.,  2.],\n",
       "       [ 2., -1.,  2.],\n",
       "       [ 2., -1.,  2.],\n",
       "       [ 2., -1.,  2.]])"
      ]
     },
     "execution_count": 33,
     "metadata": {},
     "output_type": "execute_result"
    }
   ],
   "source": [
    "gt_center"
   ]
  },
  {
   "cell_type": "code",
   "execution_count": 15,
   "metadata": {},
   "outputs": [
    {
     "data": {
      "text/plain": [
       "array([[ 0. ,  0.5,  1. ],\n",
       "       [ 0.5,  0.5,  1. ],\n",
       "       [ 1. ,  0.5,  1. ],\n",
       "       [ 0.5,  0.5,  0.5],\n",
       "       [ 1. ,  0.5,  0.5],\n",
       "       [ 1. ,  0.5,  0. ]])"
      ]
     },
     "execution_count": 15,
     "metadata": {},
     "output_type": "execute_result"
    }
   ],
   "source": [
    "pc_object"
   ]
  },
  {
   "cell_type": "code",
   "execution_count": null,
   "metadata": {
    "collapsed": true
   },
   "outputs": [],
   "source": []
  }
 ],
 "metadata": {
  "kernelspec": {
   "display_name": "Python 2",
   "language": "python",
   "name": "python2"
  },
  "language_info": {
   "codemirror_mode": {
    "name": "ipython",
    "version": 2
   },
   "file_extension": ".py",
   "mimetype": "text/x-python",
   "name": "python",
   "nbconvert_exporter": "python",
   "pygments_lexer": "ipython2",
   "version": "2.7.12"
  }
 },
 "nbformat": 4,
 "nbformat_minor": 2
}
