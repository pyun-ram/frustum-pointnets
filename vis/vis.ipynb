{
 "cells": [
  {
   "cell_type": "code",
   "execution_count": 8,
   "metadata": {
    "collapsed": true
   },
   "outputs": [],
   "source": [
    "import cPickle as pickle\n",
    "import sys\n",
    "sys.path.append('/usr/app/frustum-pointnets/train/')\n",
    "import provider\n",
    "import numpy as np\n",
    "import copy\n"
   ]
  },
  {
   "cell_type": "markdown",
   "metadata": {},
   "source": [
    "# load evaluation results"
   ]
  },
  {
   "cell_type": "code",
   "execution_count": 6,
   "metadata": {
    "collapsed": true
   },
   "outputs": [],
   "source": [
    "data_path = '/usr/app/frustum-pointnets/train/detection_results_pyun_debug2.pickle'\n",
    "with open(data_path, 'rb') as fp:\n",
    "    ps_list = pickle.load(fp)\n",
    "    segp_list = pickle.load(fp)\n",
    "    center_list = pickle.load(fp)\n",
    "    heading_cls_list = pickle.load(fp)\n",
    "    heading_res_list = pickle.load(fp)\n",
    "    size_cls_list = pickle.load(fp)\n",
    "    size_res_list = pickle.load(fp)\n",
    "    rot_angle_list = pickle.load(fp)\n",
    "    score_list = pickle.load(fp)\n",
    "    onehot_list = pickle.load(fp)\n",
    "    obj_xyz_list = pickle.load(fp)\n"
   ]
  },
  {
   "cell_type": "markdown",
   "metadata": {},
   "source": [
    "# compute l1 norm between pc and recovered pc"
   ]
  },
  {
   "cell_type": "code",
   "execution_count": 7,
   "metadata": {
    "scrolled": true
   },
   "outputs": [
    {
     "name": "stdout",
     "output_type": "stream",
     "text": [
      "diff mean is [ 0.25544572  0.80706577  0.44073082]\n",
      "diff std is [ 0.45202915  0.11794566  0.74970163]\n",
      "reldiff mean is [ 0.10227204  0.5023732   0.36458132]\n",
      "reldiff std is [ 0.17659302  0.06267772  0.65612802]\n"
     ]
    }
   ],
   "source": [
    "diff_obj_xyz_list = []\n",
    "reldiff_obj_xyz_list = []\n",
    "for idx in range(len(ps_list)):\n",
    "    # deep copy data,\n",
    "    # otherwise provider.from_prediction_to_label_format will cause bug.\n",
    "    ps = np.copy(ps_list[idx])\n",
    "    segp = np.copy(segp_list[idx])\n",
    "    obj_xyz = np.copy(obj_xyz_list[idx])\n",
    "    rot_angle = np.copy(rot_angle_list[idx])\n",
    "    center = np.copy(center_list[idx])\n",
    "    heading_cls = np.copy(heading_cls_list[idx])\n",
    "    heading_res = np.copy(heading_res_list[idx])\n",
    "    size_cls = size_cls_list[idx]\n",
    "    size_res = np.copy(size_res_list[idx])\n",
    "\n",
    "    # rotate point cloud (frustrum frame) to camera frame\n",
    "    ps = provider.rotate_pc_along_y(ps, -rot_angle)\n",
    "    # mask off background points\n",
    "    segp_mask = segp == 1\n",
    "    ps_mask = ps[segp_mask]\n",
    "    obj_xyz_mask = obj_xyz[segp_mask]\n",
    "    # get box3d from prediction\n",
    "    h,w,l,tx,ty,tz,ry = provider.from_prediction_to_label_format(center,\n",
    "        heading_cls, heading_res,\n",
    "        size_cls, size_res, rot_angle)\n",
    "    # recover normalized obj_xyz_mask to camera frame\n",
    "    obj_xyz_rcv = obj_xyz_mask * 2.0 - 1 \n",
    "    obj_xyz_rcv = obj_xyz_rcv * np.array([l/2.0, h/2.0, w/2.0])\n",
    "    obj_xyz_rcv = provider.rotate_pc_along_y(obj_xyz_rcv, - ry)\n",
    "    obj_xyz_rcv = obj_xyz_rcv + np.array([tx, ty, tz])\n",
    "    # compute l1 norm\n",
    "    diff_obj_xyz = np.abs(ps_mask[:, :3] - obj_xyz_rcv)\n",
    "    diff_obj_xyz_list.append(diff_obj_xyz)\n",
    "    # compute relative diff\n",
    "    reldiff_obj_xyz = diff_obj_xyz / np.array([l, h, w])\n",
    "    reldiff_obj_xyz_list.append(reldiff_obj_xyz)\n",
    "        \n",
    "diff_obj_xyz_np = np.concatenate(diff_obj_xyz_list)\n",
    "print(\"diff mean is {}\".format(diff_obj_xyz_np.mean(axis=0)))\n",
    "print(\"diff std is {}\".format(diff_obj_xyz_np.std(axis=0)))\n",
    "reldiff_obj_xyz_np = np.concatenate(reldiff_obj_xyz_list)\n",
    "print(\"reldiff mean is {}\".format(reldiff_obj_xyz_np.mean(axis=0)))\n",
    "print(\"reldiff std is {}\".format(reldiff_obj_xyz_np.std(axis=0)))"
   ]
  },
  {
   "cell_type": "markdown",
   "metadata": {},
   "source": [
    "# visualization"
   ]
  },
  {
   "cell_type": "code",
   "execution_count": null,
   "metadata": {},
   "outputs": [],
   "source": [
    "from open3d import *\n",
    "idx = 0\n",
    "# deep copy data,\n",
    "# otherwise provider.from_prediction_to_label_format will cause bug.\n",
    "ps = np.copy(ps_list[idx])\n",
    "segp = np.copy(segp_list[idx])\n",
    "obj_xyz = np.copy(obj_xyz_list[idx])\n",
    "rot_angle = np.copy(rot_angle_list[idx])\n",
    "center = np.copy(center_list[idx])\n",
    "heading_cls = np.copy(heading_cls_list[idx])\n",
    "heading_res = np.copy(heading_res_list[idx])\n",
    "size_cls = size_cls_list[idx]\n",
    "size_res = np.copy(size_res_list[idx])\n",
    "\n",
    "# rotate point cloud (frustrum frame) to camera frame\n",
    "ps = provider.rotate_pc_along_y(ps, -rot_angle)\n",
    "# mask off background points\n",
    "segp_mask = segp == 1\n",
    "ps_mask = ps[segp_mask]\n",
    "obj_xyz_mask = obj_xyz[segp_mask]\n",
    "# get box3d from prediction\n",
    "h,w,l,tx,ty,tz,ry = provider.from_prediction_to_label_format(center,\n",
    "    heading_cls, heading_res,\n",
    "    size_cls, size_res, rot_angle)\n",
    "print(h,w,l,tx,ty,tz,ry)\n",
    "# recover normalized obj_xyz_mask to camera frame\n",
    "obj_xyz_rcv = obj_xyz_mask * 2.0 - 1 \n",
    "obj_xyz_rcv = obj_xyz_rcv * np.array([l/2.0, h/2.0, w/2.0])\n",
    "obj_xyz_rcv = provider.rotate_pc_along_y(obj_xyz_rcv, - ry)\n",
    "obj_xyz_rcv = obj_xyz_rcv + np.array([tx, ty, tz])\n",
    "\n",
    "print(\"center point is at{}\".format(np.array([tx, ty, tz])))\n",
    "print(\"box3d size is {}\".format(np.array([l, h, w])))\n",
    "\n",
    "print(\"ps shape is {}\".format(ps.shape))\n",
    "print(\"ps range is {} - {}\".format(ps[:,:3].min(axis=0), ps[:, :3].max(axis=0)))\n",
    "ps_pcd = PointCloud()\n",
    "ps_pcd.points = Vector3dVector(ps[:, :3])\n",
    "write_point_cloud(\"ps.pcd\", ps_pcd)\n",
    "print(\"ps_mask shape is {}\".format(ps_mask.shape))\n",
    "print(\"ps_mask range is {} - {}\".format(ps_mask[:,:3].min(axis=0), ps_mask[:, :3].max(axis=0)))\n",
    "ps_mask_pcd = PointCloud()\n",
    "ps_mask_pcd.points = Vector3dVector(ps_mask[:, :3])\n",
    "write_point_cloud(\"ps_mask.pcd\", ps_mask_pcd)\n",
    "print(\"obj_xyz_mask shape is {}\".format(obj_xyz_mask.shape))\n",
    "print(\"obj_xyz_mask range is {} - {}\".format(obj_xyz_mask[:,:3].min(axis=0), obj_xyz_mask[:, :3].max(axis=0)))\n",
    "obj_xyz_mask_pcd = PointCloud()\n",
    "obj_xyz_mask_pcd.points = Vector3dVector(obj_xyz_mask[:, :3])\n",
    "write_point_cloud(\"obj_xyz_mask.pcd\", obj_xyz_mask_pcd)\n",
    "print(\"obj_xyz_rcv shape is {}\".format(obj_xyz_rcv.shape))\n",
    "print(\"obj_xyz_rcv range is {} - {}\".format(obj_xyz_rcv[:,:3].min(axis=0), obj_xyz_rcv[:, :3].max(axis=0)))\n",
    "obj_xyz_rcv_pcd = PointCloud()\n",
    "obj_xyz_rcv_pcd.points = Vector3dVector(obj_xyz_rcv[:, :3])\n",
    "write_point_cloud(\"obj_xyz_rcv.pcd\", obj_xyz_rcv_pcd)\n"
   ]
  },
  {
   "cell_type": "code",
   "execution_count": 4,
   "metadata": {},
   "outputs": [
    {
     "data": {
      "text/plain": [
       "25392"
      ]
     },
     "execution_count": 4,
     "metadata": {},
     "output_type": "execute_result"
    }
   ],
   "source": [
    "len(ps_list)"
   ]
  },
  {
   "cell_type": "code",
   "execution_count": null,
   "metadata": {
    "collapsed": true
   },
   "outputs": [],
   "source": []
  }
 ],
 "metadata": {
  "kernelspec": {
   "display_name": "Python 2",
   "language": "python",
   "name": "python2"
  },
  "language_info": {
   "codemirror_mode": {
    "name": "ipython",
    "version": 2
   },
   "file_extension": ".py",
   "mimetype": "text/x-python",
   "name": "python",
   "nbconvert_exporter": "python",
   "pygments_lexer": "ipython2",
   "version": "2.7.12"
  }
 },
 "nbformat": 4,
 "nbformat_minor": 2
}
