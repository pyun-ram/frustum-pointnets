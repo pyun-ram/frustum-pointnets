{
 "cells": [
  {
   "cell_type": "code",
   "execution_count": 59,
   "metadata": {
    "collapsed": true
   },
   "outputs": [],
   "source": [
    "import cPickle as pickle\n",
    "import sys\n",
    "sys.path.append('/usr/app/frustum-pointnets/train/')\n",
    "import provider\n",
    "import numpy as np"
   ]
  },
  {
   "cell_type": "code",
   "execution_count": 60,
   "metadata": {
    "collapsed": true
   },
   "outputs": [],
   "source": [
    "data_path = '/usr/app/frustum-pointnets/train/detection_results_pyun_debug2.pickle'"
   ]
  },
  {
   "cell_type": "code",
   "execution_count": 61,
   "metadata": {},
   "outputs": [],
   "source": [
    "with open(data_path, 'rb') as fp:\n",
    "    ps_list = pickle.load(fp)\n",
    "    segp_list = pickle.load(fp)\n",
    "    center_list = pickle.load(fp)\n",
    "    heading_cls_list = pickle.load(fp)\n",
    "    heading_res_list = pickle.load(fp)\n",
    "    size_cls_list = pickle.load(fp)\n",
    "    size_res_list = pickle.load(fp)\n",
    "    rot_angle_list = pickle.load(fp)\n",
    "    score_list = pickle.load(fp)\n",
    "    onehot_list = pickle.load(fp)\n",
    "    obj_xyz_list = pickle.load(fp)\n"
   ]
  },
  {
   "cell_type": "code",
   "execution_count": 64,
   "metadata": {},
   "outputs": [
    {
     "name": "stdout",
     "output_type": "stream",
     "text": [
      "obj_xyz range 0.126897796988 - 0.675606846809\n",
      "(1.7785790423896504, 0.54572582437650685, 1.6330315032403182, 4.5964602326873667, 1.0669273962749339, 46.105614565488224, -2.09533688234416)\n"
     ]
    }
   ],
   "source": [
    "idx = 0\n",
    "ps = ps_list[idx]\n",
    "segp = segp_list[idx]\n",
    "obj_xyz = obj_xyz_list[idx]\n",
    "\n",
    "segp_mask = segp == 1\n",
    "ps_mask = ps[segp_mask]\n",
    "obj_xyz_mask = ps[segp_mask]\n",
    "print(\"obj_xyz range {} - {}\".format(obj_xyz[segp_mask].min(), obj_xyz[segp_mask].max()))\n",
    "h,w,l,tx,ty,tz,ry = provider.from_prediction_to_label_format(center_list[idx],\n",
    "    heading_cls_list[idx], heading_res_list[idx],\n",
    "    size_cls_list[idx], size_res_list[idx], rot_angle_list[idx])\n",
    "print(h,w,l,tx,ty,tz,ry)\n",
    "# obj_xyz_rcv = obj_xyz * 2.0 - 1 \n",
    "# obj_xyz_rcv = obj_xyz_rcv * np.array([l/2.0, h/2.0, w/2.0])\n",
    "# obj_xyz_rcv = obj_xyz_rcv - np.array([tx, ty, tz])\n",
    "# obj_xyz_rcv = provider.rotate_pc_along_y(obj_xyz_rcv, - ry)\n"
   ]
  },
  {
   "cell_type": "code",
   "execution_count": 68,
   "metadata": {},
   "outputs": [
    {
     "name": "stdout",
     "output_type": "stream",
     "text": [
      "center point is at[  4.59646023   1.0669274   46.10561457]\n",
      "box3d size is [ 1.6330315   1.77857904  0.54572582]\n",
      "ps shape is (1024, 4)\n",
      "ps range is [ -0.27145693  -0.31816778  35.26903152] - [  0.55270344   1.28290808  61.69417572]\n"
     ]
    }
   ],
   "source": [
    "print(\"center point is at{}\".format(np.array([tx, ty, tz])))\n",
    "print(\"box3d size is {}\".format(np.array([l, h, w])))\n",
    "print(\"ps shape is {}\".format(ps.shape))\n",
    "print(\"ps range is {} - {}\".format(ps[:,:3].min(axis=0), ps[:, :3].max(axis=0)))"
   ]
  },
  {
   "cell_type": "code",
   "execution_count": null,
   "metadata": {
    "collapsed": true
   },
   "outputs": [],
   "source": []
  }
 ],
 "metadata": {
  "kernelspec": {
   "display_name": "Python 2",
   "language": "python",
   "name": "python2"
  },
  "language_info": {
   "codemirror_mode": {
    "name": "ipython",
    "version": 2
   },
   "file_extension": ".py",
   "mimetype": "text/x-python",
   "name": "python",
   "nbconvert_exporter": "python",
   "pygments_lexer": "ipython2",
   "version": "2.7.12"
  }
 },
 "nbformat": 4,
 "nbformat_minor": 2
}
